{
 "cells": [
  {
   "cell_type": "markdown",
   "metadata": {},
   "source": [
    "# Практическое задание\n",
    "## Урок 1. Алгоритм линейной регрессии. Градиентный спуск."
   ]
  },
  {
   "cell_type": "code",
   "execution_count": 1,
   "metadata": {},
   "outputs": [],
   "source": [
    "import numpy as np\n",
    "import matplotlib.pyplot as plt"
   ]
  },
  {
   "cell_type": "code",
   "execution_count": 2,
   "metadata": {},
   "outputs": [],
   "source": [
    "X = np.array([[1, 1, 1, 1, 1, 1, 1,  1, 1, 1],\n",
    "              [1, 1, 2, 1, 3, 0, 5, 10, 1, 2]])"
   ]
  },
  {
   "cell_type": "code",
   "execution_count": 3,
   "metadata": {},
   "outputs": [],
   "source": [
    "y = [45, 55, 50, 59, 65, 35, 75, 80, 50, 60]"
   ]
  },
  {
   "cell_type": "code",
   "execution_count": 4,
   "metadata": {},
   "outputs": [],
   "source": [
    "w = np.linalg.inv(X @ X.T) @ X @ y"
   ]
  },
  {
   "cell_type": "code",
   "execution_count": 5,
   "metadata": {},
   "outputs": [
    {
     "data": {
      "image/png": "[encoded data removed]",
      "text/plain": [
       "<Figure size 432x288 with 1 Axes>"
      ]
     },
     "metadata": {
      "needs_background": "light"
     },
     "output_type": "display_data"
    }
   ],
   "source": [
    "plt.scatter(X[1,:], y)\n",
    "plt.plot(X[1], w[0] + w[1] * X[1])\n",
    "plt.show()"
   ]
  },
  {
   "cell_type": "code",
   "execution_count": 6,
   "metadata": {},
   "outputs": [],
   "source": [
    "def calc_mse(y, y_pred):\n",
    "    err = np.mean((y - y_pred)**2)\n",
    "    return err"
   ]
  },
  {
   "cell_type": "markdown",
   "metadata": {},
   "source": [
    "#### 1. Подберите скорость обучения (alpha) и количество итераций"
   ]
  },
  {
   "cell_type": "code",
   "execution_count": 7,
   "metadata": {},
   "outputs": [],
   "source": [
    "n = X.shape[1]\n",
    "w = np.array([1, 0.5])"
   ]
  },
  {
   "cell_type": "markdown",
   "metadata": {},
   "source": [
    "Данный код поместил в функцию и добавил подсчет дистанции между новым вектором весов и вектором весов с предыдущего шага.\n",
    "\n",
    "Как только расстояние становится меньше $10^{-8}$, алгоритм останавливаем."
   ]
  },
  {
   "cell_type": "code",
   "execution_count": 8,
   "metadata": {},
   "outputs": [],
   "source": [
    "def grad_desc(alpha):\n",
    "    W = w.copy()\n",
    "    for i in range(1000):\n",
    "        y_pred = np.dot(W, X)\n",
    "        err = calc_mse(y, y_pred)\n",
    "        old_W = W.copy()\n",
    "\n",
    "        for ii in range(W.shape[0]):\n",
    "            W[ii] -= alpha * (1/n * 2 * np.sum(X[ii] * (y_pred - y)))\n",
    "\n",
    "        weight_dist = np.linalg.norm(W - old_W, ord=2)\n",
    "\n",
    "#         if i % 30 == 0:\n",
    "#             print(i, W, err, weight_dist)\n",
    "\n",
    "        if weight_dist < 1e-8:\n",
    "            return i, W\n",
    "            break\n",
    "    return i, W"
   ]
  },
  {
   "cell_type": "markdown",
   "metadata": {},
   "source": [
    "Поищем шаг $\\alpha$ среди значений  от $0.01$ до $0.07$ с шагом $0.001$"
   ]
  },
  {
   "cell_type": "code",
   "execution_count": 9,
   "metadata": {},
   "outputs": [],
   "source": [
    "alphas = np.arange(1e-2, 7e-2, 1e-3)"
   ]
  },
  {
   "cell_type": "code",
   "execution_count": 10,
   "metadata": {},
   "outputs": [
    {
     "name": "stdout",
     "output_type": "stream",
     "text": [
      "0.01 (999, array([47.23086913,  3.91094949]))\n",
      "0.011 (999, array([47.23169769,  3.91079649]))\n",
      "0.011999999999999999 (999, array([47.23198744,  3.91074298]))\n",
      "0.012999999999999998 (999, array([47.23208866,  3.91072429]))\n",
      "0.013999999999999997 (999, array([47.23212398,  3.91071777]))\n",
      "0.014999999999999996 (999, array([47.23213629,  3.9107155 ]))\n",
      "0.015999999999999993 (999, array([47.23214057,  3.91071471]))\n",
      "0.016999999999999994 (999, array([47.23214206,  3.91071443]))\n",
      "0.017999999999999995 (966, array([47.23214234,  3.91071438]))\n",
      "0.018999999999999993 (918, array([47.23214238,  3.91071437]))\n",
      "0.01999999999999999 (874, array([47.2321424 ,  3.91071437]))\n",
      "0.02099999999999999 (834, array([47.23214242,  3.91071437]))\n",
      "0.021999999999999992 (798, array([47.23214245,  3.91071436]))\n",
      "0.02299999999999999 (764, array([47.23214246,  3.91071436]))\n",
      "0.023999999999999987 (734, array([47.23214248,  3.91071436]))\n",
      "0.024999999999999988 (706, array([47.2321425 ,  3.91071435]))\n",
      "0.02599999999999999 (680, array([47.23214251,  3.91071435]))\n",
      "0.02699999999999999 (655, array([47.23214252,  3.91071435]))\n",
      "0.027999999999999983 (633, array([47.23214253,  3.91071435]))\n",
      "0.028999999999999984 (612, array([47.23214255,  3.91071434]))\n",
      "0.029999999999999985 (592, array([47.23214255,  3.91071434]))\n",
      "0.030999999999999986 (574, array([47.23214257,  3.91071434]))\n",
      "0.03199999999999998 (557, array([47.23214258,  3.91071434]))\n",
      "0.03299999999999998 (540, array([47.23214258,  3.91071434]))\n",
      "0.03399999999999998 (525, array([47.23214259,  3.91071433]))\n",
      "0.03499999999999998 (511, array([47.23214261,  3.91071433]))\n",
      "0.035999999999999976 (497, array([47.23214261,  3.91071433]))\n",
      "0.03699999999999998 (484, array([47.23214262,  3.91071433]))\n",
      "0.03799999999999998 (472, array([47.23214263,  3.91071433]))\n",
      "0.03899999999999998 (460, array([47.23214263,  3.91071433]))\n",
      "0.03999999999999997 (449, array([47.23214264,  3.91071433]))\n",
      "0.040999999999999974 (438, array([47.23214264,  3.91071433]))\n",
      "0.041999999999999975 (428, array([47.23214265,  3.91071432]))\n",
      "0.042999999999999976 (418, array([47.23214265,  3.91071432]))\n",
      "0.04399999999999998 (409, array([47.23214265,  3.91071432]))\n",
      "0.04499999999999997 (400, array([47.23214266,  3.91071432]))\n",
      "0.04599999999999997 (392, array([47.23214267,  3.91071432]))\n",
      "0.04699999999999997 (384, array([47.23214267,  3.91071432]))\n",
      "0.047999999999999966 (376, array([47.23214267,  3.91071432]))\n",
      "0.04899999999999997 (369, array([47.23214268,  3.91071432]))\n",
      "0.04999999999999997 (361, array([47.23214268,  3.91071432]))\n",
      "0.05099999999999997 (354, array([47.23214268,  3.91071432]))\n",
      "0.05199999999999997 (348, array([47.23214269,  3.91071432]))\n",
      "0.052999999999999964 (341, array([47.23214269,  3.91071432]))\n",
      "0.053999999999999965 (335, array([47.23214269,  3.91071432]))\n",
      "0.054999999999999966 (329, array([47.2321427 ,  3.91071432]))\n",
      "0.05599999999999996 (324, array([47.23214271,  3.91071431]))\n",
      "0.05699999999999996 (318, array([47.23214271,  3.91071431]))\n",
      "0.05799999999999996 (313, array([47.23214271,  3.91071431]))\n",
      "0.05899999999999996 (307, array([47.23214271,  3.91071431]))\n",
      "0.05999999999999996 (302, array([47.23214271,  3.91071431]))\n",
      "0.06099999999999996 (298, array([47.23214272,  3.91071431]))\n",
      "0.06199999999999996 (293, array([47.23214272,  3.91071431]))\n",
      "0.06299999999999996 (288, array([47.23214272,  3.91071431]))\n",
      "0.06399999999999995 (299, array([47.23214281,  3.91071429]))\n",
      "0.06499999999999995 (534, array([47.23214286,  3.91071429]))\n",
      "0.06599999999999995 (999, array([47.23197833,  3.90982329]))\n",
      "0.06699999999999995 (999, array([-1.74575854e+09, -9.45402799e+09]))\n",
      "0.06799999999999995 (999, array([-7.7338821e+21, -4.1882273e+22]))\n",
      "0.06899999999999995 (999, array([-1.50297072e+34, -8.13922803e+34]))\n"
     ]
    }
   ],
   "source": [
    "for a in alphas:\n",
    "    print(a, grad_desc(a))"
   ]
  },
  {
   "cell_type": "markdown",
   "metadata": {},
   "source": [
    "А теперь поищем лучший шаг $\\alpha$ среди значений  от $0.062$ до $0.064$ с шагом $0.0001$"
   ]
  },
  {
   "cell_type": "code",
   "execution_count": 11,
   "metadata": {},
   "outputs": [],
   "source": [
    "alphas = np.arange(.062, .064, 1e-4)"
   ]
  },
  {
   "cell_type": "code",
   "execution_count": 12,
   "metadata": {},
   "outputs": [
    {
     "name": "stdout",
     "output_type": "stream",
     "text": [
      "0.062 (293, array([47.23214272,  3.91071431]))\n",
      "0.0621 (292, array([47.23214272,  3.91071431]))\n",
      "0.062200000000000005 (292, array([47.23214272,  3.91071431]))\n",
      "0.06230000000000001 (291, array([47.23214272,  3.91071431]))\n",
      "0.06240000000000001 (291, array([47.23214272,  3.91071431]))\n",
      "0.06250000000000001 (291, array([47.23214272,  3.91071431]))\n",
      "0.06260000000000002 (290, array([47.23214272,  3.91071431]))\n",
      "0.06270000000000002 (290, array([47.23214272,  3.91071431]))\n",
      "0.06280000000000002 (289, array([47.23214272,  3.91071431]))\n",
      "0.06290000000000003 (289, array([47.23214272,  3.91071431]))\n",
      "0.06300000000000003 (288, array([47.23214272,  3.91071431]))\n",
      "0.06310000000000003 (288, array([47.23214272,  3.91071431]))\n",
      "0.06320000000000003 (287, array([47.23214272,  3.91071431]))\n",
      "0.06330000000000004 (287, array([47.23214272,  3.91071431]))\n",
      "0.06340000000000004 (287, array([47.23214273,  3.91071431]))\n",
      "0.06350000000000004 (286, array([47.23214272,  3.91071431]))\n",
      "0.06360000000000005 (286, array([47.23214273,  3.91071431]))\n",
      "0.06370000000000005 (285, array([47.23214272,  3.91071431]))\n",
      "0.06380000000000005 (286, array([47.23214273,  3.91071431]))\n",
      "0.06390000000000005 (290, array([47.23214277,  3.91071431]))\n",
      "0.06400000000000006 (299, array([47.23214281,  3.91071429]))\n"
     ]
    }
   ],
   "source": [
    "for a in alphas:\n",
    "    print(a, grad_desc(a))"
   ]
  },
  {
   "cell_type": "markdown",
   "metadata": {},
   "source": [
    "Получаем, что в данной задаче при $\\alpha = 0.0637$ за $285$ шагов дойдем до минимума с заданной точностью $10^{-8}$."
   ]
  },
  {
   "cell_type": "markdown",
   "metadata": {},
   "source": [
    "#### 2.* В этом коде мы избавляемся от итераций по весам, но тут есть ошибка, исправьте ее"
   ]
  },
  {
   "cell_type": "code",
   "execution_count": 13,
   "metadata": {},
   "outputs": [],
   "source": [
    "alpha = 0.0637\n",
    "W = np.array([1, 0.5])"
   ]
  },
  {
   "cell_type": "markdown",
   "metadata": {},
   "source": [
    "`np.sum(X * (y_pred - y))` заменил на `X @ (y_pred - y)`"
   ]
  },
  {
   "cell_type": "code",
   "execution_count": 14,
   "metadata": {},
   "outputs": [
    {
     "name": "stdout",
     "output_type": "stream",
     "text": [
      "0 [ 8.01974 22.158  ] 3173.15\n",
      "30 [42.12976616  5.79122214] 78.19113705241716\n",
      "60 [46.57198203  4.11261092] 46.32793189825305\n",
      "90 [47.14704522  3.93324774] 45.9428929854584\n",
      "120 [47.22120004  3.91331634] 45.93758104968297\n",
      "150 [47.23073796  3.91102327] 45.937501274581834\n",
      "180 [47.23196268  3.91075178] 45.937500020491576\n",
      "210 [47.23211977  3.91071891] 45.93750000033283\n",
      "240 [47.2321399   3.91071486] 45.937500000005414\n",
      "270 [47.23214248  3.91071436] 45.93750000000008\n",
      "300 [47.23214281  3.91071429] 45.93749999999999\n"
     ]
    }
   ],
   "source": [
    "for i in range(301):\n",
    "    y_pred = np.dot(W, X)\n",
    "    err = calc_mse(y, y_pred)\n",
    "#   for ii in range(W.shape[0]):\n",
    "#       W[ii] -= alpha * (1/n * 2 * np.sum(X[ii] * (y_pred - y)))\n",
    "\n",
    "#   W -= (alpha * (1/n * 2 * np.sum(X * (y_pred - y))))\n",
    "\n",
    "    W -= alpha * (1/n * 2 * X @ (y_pred - y))\n",
    "    if i % 30 == 0:\n",
    "        print(i, W, err)"
   ]
  },
  {
   "cell_type": "markdown",
   "metadata": {},
   "source": [
    "#### 3.* Вместо того, чтобы задавать количество итераций, задайте условие остановки алгоритма - когда ошибка за итерацию начинает изменяться ниже определенного порога (упрощенный аналог параметра tol в линейной регрессии в sklearn)"
   ]
  },
  {
   "cell_type": "code",
   "execution_count": 15,
   "metadata": {},
   "outputs": [],
   "source": [
    "def grad_desc_2(alpha):\n",
    "    W = w.copy()\n",
    "    max_iter = 10000  # Ограничение числа итераций для избежания зацикливания\n",
    "    min_err_dist = 1e-8  # критерий сходимости (разница ошибок, при которой алгоритм останавливается)\n",
    "    err = np.inf  # Начальная ошибка\n",
    "    iter_num = 0\n",
    "    \n",
    "    for i in range(max_iter):\n",
    "        y_pred = np.dot(W, X)\n",
    "        W -= alpha * (1/n * 2 * X @ (y_pred - y))\n",
    "            \n",
    "        err_new = calc_mse(y, y_pred)\n",
    "        err_dist = err - err_new\n",
    "        if err_dist < min_err_dist:\n",
    "            break\n",
    "        \n",
    "        err = err_new\n",
    "        \n",
    "        if i % 10 == 0:\n",
    "            print(f'{i:<5} {str(W):<27} {err:<14.8f} {err_dist:.8f}')\n",
    "\n",
    "    return i, W, err, err_dist"
   ]
  },
  {
   "cell_type": "code",
   "execution_count": 16,
   "metadata": {},
   "outputs": [
    {
     "name": "stdout",
     "output_type": "stream",
     "text": [
      "0     [ 8.01974 22.158  ]         3173.15000000  inf\n",
      "10    [27.34592281 12.42696124]   714.68292287   110.93253667\n",
      "20    [37.15543166  7.90342597]   191.47361195   23.83801148\n",
      "30    [42.12976616  5.79122214]   78.19113705    5.21430864\n",
      "40    [44.65014667  4.80046746]   53.21692160    1.16159317\n",
      "50    [45.92625981  4.33360951]   47.60957850    0.26349548\n",
      "60    [46.57198203  4.11261092]   46.32793190    0.06081506\n",
      "70    [46.89854838  4.00752124]   46.03002752    0.01426255\n",
      "80    [47.06362933  3.95732642]   45.95971467    0.00339315\n",
      "90    [47.14704522  3.93324774]   45.94289299    0.00081737\n",
      "100   [47.18918086  3.92164893]   45.93882144    0.00019899\n",
      "110   [47.21045829  3.91603947]   45.93782626    0.00004887\n",
      "120   [47.22120004  3.91331634]   45.93758105    0.00001209\n",
      "130   [47.22662169  3.91198969]   45.93752023    0.00000301\n",
      "140   [47.22935759  3.91134122]   45.93750507    0.00000075\n",
      "150   [47.23073796  3.91102327]   45.93750127    0.00000019\n",
      "160   [47.23143431  3.91086694]   45.93750032    0.00000005\n",
      "170   [47.23178554  3.91078987]   45.93750008    0.00000001\n"
     ]
    },
    {
     "data": {
      "text/plain": [
       "(172,\n",
       " array([47.23183127,  3.91077997]),\n",
       " 45.93750007064501,\n",
       " 9.079592189209507e-09)"
      ]
     },
     "execution_count": 16,
     "metadata": {},
     "output_type": "execute_result"
    }
   ],
   "source": [
    "grad_desc_2(.0637)"
   ]
  }
 ],
 "metadata": {
  "kernelspec": {
   "display_name": "Python 3",
   "language": "python",
   "name": "python3"
  },
  "language_info": {
   "codemirror_mode": {
    "name": "ipython",
    "version": 3
   },
   "file_extension": ".py",
   "mimetype": "text/x-python",
   "name": "python",
   "nbconvert_exporter": "python",
   "pygments_lexer": "ipython3",
   "version": "3.7.5"
  }
 },
 "nbformat": 4,
 "nbformat_minor": 2
}
